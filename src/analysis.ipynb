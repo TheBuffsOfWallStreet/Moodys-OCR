{
 "metadata": {
  "language_info": {
   "codemirror_mode": {
    "name": "ipython",
    "version": 3
   },
   "file_extension": ".py",
   "mimetype": "text/x-python",
   "name": "python",
   "nbconvert_exporter": "python",
   "pygments_lexer": "ipython3",
   "version": "3.7.3-final"
  },
  "orig_nbformat": 2,
  "kernelspec": {
   "name": "python3",
   "display_name": "Python 3",
   "language": "python"
  }
 },
 "nbformat": 4,
 "nbformat_minor": 2,
 "cells": [
  {
   "cell_type": "code",
   "execution_count": 39,
   "metadata": {},
   "outputs": [],
   "source": [
    "from pymongo import MongoClient\n",
    "from nltk import edit_distance\n",
    "import json"
   ]
  },
  {
   "cell_type": "code",
   "execution_count": 40,
   "metadata": {},
   "outputs": [],
   "source": [
    "def parse_header(path):\n",
    "    '''\n",
    "    Takes in a file path for the header data to be parsed\n",
    "    Returns a list of dictionary objects of header data\n",
    "    '''\n",
    "    res = []\n",
    "    with open(path) as file:\n",
    "        lines = file.readlines()\n",
    "        for line in lines:\n",
    "            data = line.split(',')\n",
    "            entry = {\n",
    "                'company': data[0].strip('\"'),\n",
    "                'image_id': int(data[1]),\n",
    "                'x1': float(data[2]),\n",
    "                'x2': float(data[3]),\n",
    "                'y1': float(data[4]),\n",
    "                'y2': float(data[5])\n",
    "            }\n",
    "            res.append(entry)\n",
    "    return res"
   ]
  },
  {
   "cell_type": "code",
   "execution_count": 41,
   "metadata": {},
   "outputs": [],
   "source": [
    "headers = parse_header(\"GoldStandard1930s.20200923.csv\")"
   ]
  },
  {
   "cell_type": "code",
   "execution_count": 50,
   "metadata": {},
   "outputs": [],
   "source": [
    "# with open('chace_output.json', 'r') as file:\n",
    "#     chace_data = json.load(file)\n",
    "\n",
    "with open('1930.json', 'r') as file:\n",
    "    chace_data = json.load(file)"
   ]
  },
  {
   "cell_type": "code",
   "execution_count": 51,
   "metadata": {},
   "outputs": [
    {
     "output_type": "stream",
     "name": "stdout",
     "text": [
      "19300006-0001\n"
     ]
    }
   ],
   "source": [
    "print(str(headers[0]['image_id'])[:8]+'-'+str(headers[0]['image_id'])[-4:])"
   ]
  },
  {
   "cell_type": "code",
   "execution_count": 52,
   "metadata": {},
   "outputs": [],
   "source": [
    "data = {}\n",
    "for d in chace_data:\n",
    "    data[d['_id'].replace('-', '')] = [c.strip() for c in d['companies']]"
   ]
  },
  {
   "cell_type": "code",
   "execution_count": 53,
   "metadata": {},
   "outputs": [
    {
     "output_type": "stream",
     "name": "stdout",
     "text": [
      "3635\n3635\n52640\n"
     ]
    }
   ],
   "source": [
    "print(len(data))\n",
    "print(len(chace_data))\n",
    "print(len(headers))"
   ]
  },
  {
   "cell_type": "code",
   "execution_count": 54,
   "metadata": {},
   "outputs": [],
   "source": [
    "years = {\n",
    "    1930:{\n",
    "        'correct': 0,\n",
    "        'total': 0\n",
    "    },\n",
    "    1931:{\n",
    "        'correct': 0,\n",
    "        'total': 0\n",
    "    },\n",
    "    1932:{\n",
    "        'correct': 0,\n",
    "        'total': 0\n",
    "    },\n",
    "    1933:{\n",
    "        'correct': 0,\n",
    "        'total': 0\n",
    "    },\n",
    "    1934:{\n",
    "        'correct': 0,\n",
    "        'total': 0\n",
    "    },\n",
    "    1935:{\n",
    "        'correct': 0,\n",
    "        'total': 0\n",
    "    },\n",
    "    1936:{\n",
    "        'correct': 0,\n",
    "        'total': 0\n",
    "    },\n",
    "    1937:{\n",
    "        'correct': 0,\n",
    "        'total': 0\n",
    "    },\n",
    "    1938:{\n",
    "        'correct': 0,\n",
    "        'total': 0\n",
    "    },\n",
    "    1939:{\n",
    "        'correct': 0,\n",
    "        'total': 0\n",
    "    },\n",
    "}"
   ]
  },
  {
   "cell_type": "code",
   "execution_count": 55,
   "metadata": {
    "tags": []
   },
   "outputs": [
    {
     "output_type": "stream",
     "name": "stdout",
     "text": [
      "3385\n47680\n"
     ]
    }
   ],
   "source": [
    "missed = []\n",
    "count = 0\n",
    "error = 0\n",
    "for h in headers:\n",
    "    found = False\n",
    "    id_str = str(h['image_id'])\n",
    "    year = int(id_str[:4])\n",
    "    years[year]['total'] += 1\n",
    "    companies = data.get(id_str, None)\n",
    "    if companies:\n",
    "        if h['company'] in companies:\n",
    "            count += 1\n",
    "            years[year]['correct'] += 1\n",
    "            found = True\n",
    "        else:\n",
    "            for c in companies:\n",
    "                if edit_distance(h['company'], c) < 0.25*len(h['company']):\n",
    "                    count += 1\n",
    "                    years[year]['correct'] += 1\n",
    "                    found = True\n",
    "                    break\n",
    "    else:\n",
    "        error += 1\n",
    "\n",
    "    if not found:\n",
    "        if companies:\n",
    "            missed.append([str(h['image_id']), h['company'], '  '.join(companies)])\n",
    "        else:\n",
    "            missed.append([str(h['image_id']), h['company'], 'None'])\n",
    "print(count)\n",
    "print(error)"
   ]
  },
  {
   "cell_type": "code",
   "execution_count": 56,
   "metadata": {},
   "outputs": [
    {
     "output_type": "stream",
     "name": "stdout",
     "text": [
      "0.0643047112462006\n"
     ]
    }
   ],
   "source": [
    "print(count/len(headers))"
   ]
  },
  {
   "cell_type": "code",
   "execution_count": 57,
   "metadata": {},
   "outputs": [
    {
     "output_type": "stream",
     "name": "stdout",
     "text": [
      "1930: 0.5626662234042553\n1931: 0.0\n1932: 0.0\n1933: 0.0\n1934: 0.0\n1935: 0.0\n1936: 0.0\n1937: 0.0\n1938: 0.0\n1939: 0.0\n"
     ]
    }
   ],
   "source": [
    "for y in years:\n",
    "    print('{}: {}'.format(y, years[y]['correct']/years[y]['total']))"
   ]
  },
  {
   "cell_type": "code",
   "execution_count": 27,
   "metadata": {},
   "outputs": [
    {
     "output_type": "stream",
     "name": "stdout",
     "text": [
      "[['193000060001', 'AMERICAN WINDOW GLASS CO', 'None'], ['193000060004', 'BARTLETT CO', 'None'], ['193000060004', 'PITTSBURGH STEEL CO', 'None'], ['193000060006', 'SHUBERT THEATRE CORP', 'None'], ['193000060007', 'SOUTHERN ICE AND UTILITIES CO', 'None'], ['193000060009', 'A G SPALDING BROS', 'None'], ['193000060011', 'ACME STEEL CO', 'None'], ['193000060012', 'AMERICAN BOSCH MAGNETO CORP', 'None'], ['193000060013', 'AMERICAN BROWN BOVERI ELECTRIC CORP', 'CHICOPEE REALTY CORP'], ['193000060015', 'AMERICAN CHICLE CO', 'None'], ['193000060016', 'AMERICAN HIDE LEATHER CO', 'None'], ['193000060017', 'AMERICAN LA FRANCE FOAMITE CORP', 'None'], ['193000060018', 'THE AMERICAN LAUNDRY MACHINERY CO', 'None'], ['193000060019', 'AMERICAN LOCOMOTIVE CO', 'None'], ['193000060021', 'MCINTOSH SEYMOUR CORP', 'THE AMERICAN METAL COMPANY LTD'], ['193000060023', 'SAN TOY MINING CO', 'None'], ['193000060024', 'THE AMERICAN REPUBLICS CORP', 'None'], ['193000060025', 'PENNSYLVANIA CAR CO', 'None'], ['193000060026', 'PENNSYLVANIA TANK LINE', 'None'], ['193000060027', 'AMERICAN SNUFF CO', 'None'], ['193000060028', 'AMERICAN STORES CO', 'None'], ['193000060028', 'THE AMERICAN SUGAR REFINING CO', 'None'], ['193000060030', 'ATLAS POWDER CO', 'None'], ['193000060032', 'THE BALDWIN CO', 'None'], ['193000060034', 'CONTINENTAL MOTORS CORP', 'None'], ['193000060035', 'CRADDOCK TERRY CO', 'None'], ['193000060036', 'DRUG INC', 'None'], ['193000060036', 'B M PROPRIETARY PRODUCTS', 'None'], ['193000060037', 'THE OWL DRUG CO', 'HOUSEHOLD PRODUCTS INC'], ['193000060038', 'UNITED DRUG CO', 'STERLING PRODUCTS INC'], ['193000060039', 'BOOTS PURE DRUG CO', 'None'], ['193000060040', 'LOUIS K LIGGETT CO', 'None'], ['193000060041', 'SEAMLESS RUBBER REALTY ASSOCIATES', 'LIGGETT BUILDING INC  THE SEAMLESS RUBBER COMPANY INC'], ['193000060042', 'UNITED DRUG BUILDING CO', 'None'], ['193000060042', 'HERCULES POWDER CO', 'None'], ['193000060043', 'ILLINOIS BRICK CO', 'None'], ['193000060044', 'THE AEOLIAN WEBER PIANO PIANOLA CO', 'None'], ['193000060044', 'THE AEOLIAN CO', 'None'], ['193000060047', 'THE AMERICAN AGRICULTURAL CHEMICAL CO', 'None'], ['193000060048', 'AMERICAN SUMATRA TOBACCO CORP', 'None'], ['193000060049', 'THE AMERICAN TOBACCO', 'None'], ['193000060051', 'AMERICAN CIGAR CO', 'None'], ['193000060053', 'THE ARUNDEL CORP', 'None'], ['193000060054', 'THE ATLANTIC FRUIT SUGAR CO', 'None'], ['193000060055', 'BARKER BROS CORP', 'None'], ['193000060057', 'BARKER BROS INC', 'ISAHNSDALL OIL CO CALIF  ASHLAND OIL CO  OIL  GAS CO  BARNSDALL ZINC CO  BARNSDALL OIL CO'], ['193000060057', 'BARNSDALL CORP', 'ISAHNSDALL OIL CO CALIF  ASHLAND OIL CO  OIL  GAS CO  BARNSDALL ZINC CO  BARNSDALL OIL CO'], ['193000060059', 'PITTSBURG OIL GAS CO', 'None'], ['193000060062', 'H C BOHACK CO INC', 'BOHACK COMPANY INC'], ['193000060063', 'BOHACK REALTY CORP', 'None'], ['193000060063', 'BOOTH FISHERIES CORP', 'None'], ['193000060066', 'CALUMET ARIZONA MINING CO', 'None'], ['193000060067', 'VERDE CENTRAL MINES CO', 'None'], ['193000060067', 'COMMERCIAL SOLVENTS CORP', 'None'], ['193000060068', 'THE CUBAN AMERICAN SUGAR CO', 'None'], ['193000060070', 'THE CUDAHY PACKING CO', 'None'], ['193000060072', 'DEERE CO', 'ALFRED DECKER  COHN INC'], ['193000060074', 'DENNISON MFG CO', 'None'], ['193000060075', 'DETROIT CLEVELAND NAVIGATION CO', 'None'], ['193000060077', 'JACOB DOLD PACKING CO', 'None'], ['193000060078', 'THE FAJARDO SUGAR CO OF PORTO RICO', 'None'], ['193000060080', 'THE FRANCISCO SUGAR CO', 'None'], ['193000060082', 'FRICK CO', 'None'], ['193000060083', 'GENERAL CIGAR CO INC', 'None'], ['193000060084', 'THE GLIDDEN CO', 'None'], ['193000060086', 'GUANTANAMO SUGAR CO', 'None'], ['193000060087', 'IMPERIAL PAPER AND COLOR CORP', 'None'], ['193000060088', 'INTERNATIONAL AGRICULTURAL CORP', 'None'], ['193000060090', 'INTERNATIONAL SHOE CO', 'None'], ['193000060091', 'KANAWHA HOCKING COAL COKE CO', 'None'], ['193000060092', 'JULIUS KAYSER CO', 'None'], ['193000060093', 'KAYSER HOSIERY MOTOR MEND CORP', 'None'], ['193000060093', 'KEYSTONE STEEL WIRE CO', 'None'], ['193000060095', 'MERGENTHALER LINOTYPE CO', 'None'], ['193000060096', 'THE MORGAN LITHOGRAPH CO', 'None'], ['193000060097', 'NASHUA MFG CO', 'None'], ['193000060098', 'INDIAN HEAD MILLS OF ALABAMA', 'NATIONAL CASKET COMPANY INC'], ['193000070001', 'PENNSYLVANIA SALT MFG CO', 'None'], ['193000070002', 'THE SHERWIN WILLIAMS CO', 'None'], ['193000070003', 'THE SHERWIN WILLIAMS CO OF CANADA LTD', 'IERWINWILLIAMS COMPANY OF CANADA LTD'], ['193000070004', 'SOUTH PORTO RICO SUGAR CO', 'None'], ['193000070005', 'STANDARD OIL CO OF KANSAS', 'None'], ['193000070006', 'VICTOR MONAGHAN CO', 'None'], ['193000070007', 'VIRGINIA CAROLINA CHEMICAL CORP', 'None'], ['193000070008', 'AMERICAN VITRIFIED PRODUCTS CO', 'None'], ['193000070009', 'BRIDGEPORT BRASS CO', 'None'], ['193000070010', 'A M BYERS CO', 'None'], ['193000070011', 'CHILDS CO', 'None'], ['193000070013', 'CHILDS DINING HALL CO', 'None'], ['193000070015', 'THE EAGLE PICHER LEAD CO', 'None'], ['193000070016', 'CONSOLIDATED LEAD ZINC CO', 'None'], ['193000070018', 'INTERNATIONAL MERCANTILE MARINE CO', 'None'], ['193000070019', 'GEO E KEITH CO', 'None'], ['193000070020', 'MANATI SUGAR CO', 'None'], ['193000070022', 'PEABODY COAL CO', 'None'], ['193000070023', 'THE PROCTER GAMBLE CO', 'None'], ['193000070025', 'R J REYNOLDS TOBACCO', 'None'], ['193000070026', 'SMITH CORP', 'None'], ['193000070028', 'UNION CARBIDE CARBON CORP', 'None'], ['193000070029', 'ACHESON GRAPHITE CORP', 'None']]\n"
     ]
    }
   ],
   "source": [
    "print(missed[:100])"
   ]
  },
  {
   "cell_type": "code",
   "execution_count": 13,
   "metadata": {},
   "outputs": [],
   "source": [
    "with open('missed_headers.csv', 'w') as file:\n",
    "    for m in missed:\n",
    "        file.write(','.join(m) + '\\n')"
   ]
  },
  {
   "cell_type": "code",
   "execution_count": null,
   "metadata": {},
   "outputs": [],
   "source": []
  }
 ]
}